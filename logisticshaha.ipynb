{
 "cells": [
  {
   "cell_type": "markdown",
   "metadata": {},
   "source": [
    "# python = 3.6 cpu"
   ]
  },
  {
   "cell_type": "code",
   "execution_count": 1,
   "metadata": {
    "collapsed": true
   },
   "outputs": [],
   "source": [
    "import tensorflow as tf\n",
    "import numpy as np\n",
    "import matplotlib.pyplot as plt"
   ]
  },
  {
   "cell_type": "code",
   "execution_count": 4,
   "metadata": {
    "collapsed": true
   },
   "outputs": [],
   "source": [
    "def logisticDIY():\n",
    "    #数据预处理\n",
    "    filename = 'watermelon.txt'\n",
    "    f = open(filename , 'r')\n",
    "\n",
    "    mat = f.readlines()\n",
    "    for i in range(len(mat)):\n",
    "        mat[i] = mat[i].strip().split('\\t')\n",
    "    mat = np.array(mat)\n",
    "    mat = mat.astype(float)\n",
    "\n",
    "    #结构搭建\n",
    "    input_x = tf.placeholder(tf.float32, [None, 2], name = 'input_x')\n",
    "    output_y = tf.placeholder(tf.float32, [None, 1], name = 'output_y')\n",
    "\n",
    "    w = tf.Variable(tf.truncated_normal([2,1] , stddev = 0.1) , name = 'weight1')\n",
    "    b = tf.Variable(tf.zeros([1]))\n",
    "\n",
    "    y = tf.add(tf.matmul( input_x , w ) , b)\n",
    "\n",
    "    #cost = tf.reduce_mean(tf.pow(tf.subtract( y , output_y ) , 2))\n",
    "    #sigmoid 函数激活后的lost\n",
    "    cost = tf.nn.sigmoid_cross_entropy_with_logits(logits= y ,labels= output_y )\n",
    "    #optimizer = tf.train.RMSPropOptimizer(0.1).minimize(cost)\n",
    "    optimizer = tf.train.AdamOptimizer(1).minimize(cost)#越大越好效果\n",
    "    \n",
    "    writer = tf.summary.FileWriter('/home/a503wangsiqi/tensorboard/logisticDIY_log',tf.get_default_graph())\n",
    "    writer.close()\n",
    "    sess = tf.InteractiveSession()\n",
    "\n",
    "    tf.global_variables_initializer().run()\n",
    "\n",
    "    m=mat.shape[0]\n",
    "\n",
    "    for i in range(50):\n",
    "        opt = sess.run( optimizer , feed_dict= { input_x: mat[:,1:3], output_y : mat[:,3].reshape([-1,1])})\n",
    "        cost_ = sess.run(cost , feed_dict= {input_x : mat[:,1:3], output_y : mat[:,3].reshape([-1,1])})\n",
    "        y_ = sess.run(tf.sigmoid(y) , feed_dict= {input_x : mat[:,1:3]})\n",
    "        s = 0\n",
    "        for i in range(m):\n",
    "            if (y_[i]>=0.5 and mat[i,3]==1) or (y_[i]<0.5 and mat[i,3]==0) :\n",
    "                s+=1\n",
    "        print('accuracy:', s/m)\n",
    "    w_ = sess.run(w)\n",
    "    b_ = sess.run(b)\n",
    "\n",
    "    print(w_,b_)\n",
    "\n",
    "\n",
    "    #画图\n",
    "    xcord1=[]\n",
    "    ycord1=[]\n",
    "    xcord2=[]\n",
    "    ycord2=[]\n",
    "    for i in range(m):\n",
    "        if mat[i,3]==1:\n",
    "            xcord1.append(mat[i,1])\n",
    "            ycord1.append(mat[i,2])\n",
    "        else:\n",
    "            xcord2.append(mat[i,1])\n",
    "            ycord2.append(mat[i,2])\n",
    "    plt.figure(1)\n",
    "    ax=plt.subplot(111)\n",
    "    ax.scatter(xcord1,ycord1,s=30,c='red',marker='s')\n",
    "    ax.scatter(xcord2,ycord2,s=30,c='green')\n",
    "    x=np.linspace(0.2,0.8,30)\n",
    "    #x = x/10\n",
    "    y=((-b_-w_[0]*x)/w_[1])\n",
    "\n",
    "    plt.sca(ax)\n",
    "    plt.plot(x,y)      #ramdomgradAscent\n",
    "    #plt.plot(x,y[0])   #gradAscent\n",
    "    plt.xlabel('density')\n",
    "    plt.ylabel('ratio_sugar')\n",
    "    #plt.title('gradAscent logistic regression')\n",
    "    plt.title('ramdom gradAscent logistic regression')\n",
    "    plt.show()"
   ]
  },
  {
   "cell_type": "code",
   "execution_count": 5,
   "metadata": {},
   "outputs": [
    {
     "name": "stdout",
     "output_type": "stream",
     "text": [
      "accuracy: 0.5\n",
      "accuracy: 0.5\n",
      "accuracy: 0.5\n",
      "accuracy: 0.5\n",
      "accuracy: 0.5\n",
      "accuracy: 0.6875\n",
      "accuracy: 0.8125\n",
      "accuracy: 0.6875\n",
      "accuracy: 0.6875\n",
      "accuracy: 0.6875\n",
      "accuracy: 0.875\n",
      "accuracy: 0.875\n",
      "accuracy: 0.9375\n",
      "accuracy: 0.8125\n",
      "accuracy: 0.8125\n",
      "accuracy: 0.8125\n",
      "accuracy: 0.9375\n",
      "accuracy: 0.875\n",
      "accuracy: 0.875\n",
      "accuracy: 0.8125\n",
      "accuracy: 0.875\n",
      "accuracy: 0.875\n",
      "accuracy: 0.875\n",
      "accuracy: 0.875\n",
      "accuracy: 0.875\n",
      "accuracy: 0.9375\n",
      "accuracy: 0.9375\n",
      "accuracy: 0.9375\n",
      "accuracy: 0.9375\n",
      "accuracy: 0.875\n",
      "accuracy: 0.875\n",
      "accuracy: 0.875\n",
      "accuracy: 0.875\n",
      "accuracy: 0.875\n",
      "accuracy: 0.875\n",
      "accuracy: 0.875\n",
      "accuracy: 0.875\n",
      "accuracy: 0.875\n",
      "accuracy: 0.875\n",
      "accuracy: 0.875\n",
      "accuracy: 0.9375\n",
      "accuracy: 0.9375\n",
      "accuracy: 0.875\n",
      "accuracy: 0.875\n",
      "accuracy: 0.875\n",
      "accuracy: 0.875\n",
      "accuracy: 0.875\n",
      "accuracy: 0.875\n",
      "accuracy: 0.875\n",
      "accuracy: 0.875\n",
      "[[ -3.29427409]\n",
      " [ 24.88112831]] [-2.55521297]\n"
     ]
    },
    {
     "data": {
      "image/png": "[encoded data removed]",
      "text/plain": [
       "<matplotlib.figure.Figure at 0x23d56b75048>"
      ]
     },
     "metadata": {},
     "output_type": "display_data"
    }
   ],
   "source": [
    "logisticDIY()"
   ]
  },
  {
   "cell_type": "code",
   "execution_count": null,
   "metadata": {
    "collapsed": true
   },
   "outputs": [],
   "source": []
  }
 ],
 "metadata": {
  "kernelspec": {
   "display_name": "Python [conda env:tensorflow]",
   "language": "python",
   "name": "conda-env-tensorflow-py"
  },
  "language_info": {
   "codemirror_mode": {
    "name": "ipython",
    "version": 3
   },
   "file_extension": ".py",
   "mimetype": "text/x-python",
   "name": "python",
   "nbconvert_exporter": "python",
   "pygments_lexer": "ipython3",
   "version": "3.5.4"
  }
 },
 "nbformat": 4,
 "nbformat_minor": 2
}
